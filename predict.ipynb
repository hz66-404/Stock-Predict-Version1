{
 "cells": [
  {
   "cell_type": "code",
   "execution_count": 8,
   "metadata": {},
   "outputs": [
    {
     "data": {
      "application/vnd.jupyter.widget-view+json": {
       "model_id": "b9250ecfe688470d9cc522fdfc05e4a6",
       "version_major": 2,
       "version_minor": 0
      },
      "text/plain": [
       "interactive(children=(Text(value='AAPL', description='Stock Symbol:'), DatePicker(value=Timestamp('2023-01-01 …"
      ]
     },
     "metadata": {},
     "output_type": "display_data"
    }
   ],
   "source": [
    "import yfinance as yf\n",
    "import matplotlib.pyplot as plt\n",
    "from ipywidgets import interact, widgets\n",
    "import pandas as pd\n",
    "\n",
    "def stockPriceAnalysis(stock='AAPL', start='2023-01-01', end='2023-12-31'):\n",
    "    # Use yfinance to fetch stock data\n",
    "    df = yf.download(stock, start=start, end=end)\n",
    "\n",
    "    # Calculate 20-day and 50-day moving averages\n",
    "    df['MA20'] = df['Close'].rolling(window=20).mean()\n",
    "    df['MA50'] = df['Close'].rolling(window=50).mean()\n",
    "\n",
    "    # Plot the closing price and moving averages of the stock\n",
    "    plt.figure(figsize=(14, 7))\n",
    "    plt.plot(df['Close'], label=f'{stock} Close Price', color='blue')\n",
    "    plt.plot(df['MA20'], label='20-Day Moving Average', color='red')\n",
    "    plt.plot(df['MA50'], label='50-Day Moving Average', color='green')\n",
    "    plt.title(f'{stock} Stock Price Analysis')\n",
    "    plt.xlabel('Date')\n",
    "    plt.ylabel('Price USD')\n",
    "    plt.legend()\n",
    "    plt.show()\n",
    "\n",
    "# Create interactive controls\n",
    "stock_input = widgets.Text(value='AAPL', description='Stock Symbol:', disabled=False)\n",
    "start_input = widgets.DatePicker(description='Start Date', value=pd.to_datetime('2023-01-01'))\n",
    "end_input = widgets.DatePicker(description='End Date', value=pd.to_datetime('2023-12-31'))\n",
    "\n",
    "# Display the interactive controls\n",
    "interact(stockPriceAnalysis, stock=stock_input, start=start_input, end=end_input);\n"
   ]
  }
 ],
 "metadata": {
  "kernelspec": {
   "display_name": "Python 3",
   "language": "python",
   "name": "python3"
  },
  "language_info": {
   "codemirror_mode": {
    "name": "ipython",
    "version": 3
   },
   "file_extension": ".py",
   "mimetype": "text/x-python",
   "name": "python",
   "nbconvert_exporter": "python",
   "pygments_lexer": "ipython3",
   "version": "3.11.8"
  }
 },
 "nbformat": 4,
 "nbformat_minor": 2
}
